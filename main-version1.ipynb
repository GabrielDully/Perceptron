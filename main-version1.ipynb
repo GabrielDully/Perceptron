{
 "cells": [
  {
   "cell_type": "markdown",
   "metadata": {},
   "source": [
    "# Problem: Binary Classification of Iris Flowers\n",
    "\n",
    "1. Dataset: Use the Iris dataset, a popular dataset in machine learning. It contains four features: sepal length, sepal width, petal length, and petal width, along with the species of iris (Setosa, Versicolor, or Virginica).\n",
    "\n",
    "2. Objective: We will simplify the problem to binary classification by considering only two classes: Setosa and Versicolor. You will train the perceptron to distinguish between these two classes based on the provided features.\n",
    "\n",
    "3. Steps:\n",
    "\n",
    "    a)Load the Iris dataset.\n",
    "\n",
    "    b) Preprocess the data: Since we're considering only two classes, Setosa and Versicolor, you can select only the corresponding rows from the dataset and use only the first two features (sepal length and sepal width) for simplicity.\n",
    "    \n",
    "    c) Implement the perceptron algorithm to learn a decision boundary that separates the two classes.\n",
    "    Train the perceptron on a portion of the dataset.\n",
    "    \n",
    "    d)Test the perceptron on the remaining portion of the dataset and evaluate its performance (e.g., accuracy).\n",
    "    \n",
    "    e) Evaluation: You can evaluate the performance of your perceptron algorithm by calculating the accuracy, which is the proportion of correctly classified instances over the total number of instances.\n",
    "\n",
    "4. Extension: Once you have a basic perceptron working, you can experiment with different aspects such as learning rate, number of epochs, feature scaling, or even extend it to handle multiple classes using techniques like one-vs-all or one-vs-one.\n",
    "\n",
    "5. This exercise will allow you to test your perceptron algorithm in a simple binary classification task and assess its performance."
   ]
  },
  {
   "cell_type": "markdown",
   "metadata": {},
   "source": [
    "## Load and Preprocessing of Dataset"
   ]
  },
  {
   "cell_type": "code",
   "execution_count": 46,
   "metadata": {},
   "outputs": [
    {
     "data": {
      "text/plain": [
       "'\\nfor line in labeled_list2_80:\\n    print(line)\\nprint()\\nfor line in labeled_list2_20:\\n    print(line)\\n'"
      ]
     },
     "execution_count": 46,
     "metadata": {},
     "output_type": "execute_result"
    }
   ],
   "source": [
    "def load_label_info(path, label, column):\n",
    "    \n",
    "    labeled_list = []\n",
    "    with open(path, 'r') as file:\n",
    "        \n",
    "        for line in file:\n",
    "            \n",
    "            info = line.split(',')\n",
    "\n",
    "            if info[column] == label:\n",
    "                labeled_list.append(info)\n",
    "    \n",
    "    return labeled_list\n",
    "\n",
    "def create_labeled_lists(label1, label2, path, column):\n",
    "\n",
    "    labeled_list1 = load_label_info(path, label1, column)\n",
    "    labeled_list2 = load_label_info(path, label2, column)\n",
    "\n",
    "    return labeled_list1, labeled_list2\n",
    "\n",
    "labeled_list1, labeled_list2 = create_labeled_lists('Iris-versicolor\\n', 'Iris-setosa\\n', 'iris/iris.data', 4)\n",
    "\n",
    "labeled_list1_80 = []\n",
    "labeled_list1_20 = []\n",
    "i = 0\n",
    "while i/len(labeled_list1) < 0.8:\n",
    "    \n",
    "    labeled_list1_80.append([1] + [float(labeled_list1[i][0])] + [float(labeled_list1[i][1])])\n",
    "    \n",
    "    i += 1\n",
    "\n",
    "while i < len(labeled_list1):\n",
    "\n",
    "    labeled_list1_20.append([1] + [float(labeled_list1[i][0])] + [float(labeled_list1[i][1])])\n",
    "\n",
    "    i += 1\n",
    "\n",
    "labeled_list2_80 = []\n",
    "labeled_list2_20 = []\n",
    "i = 0\n",
    "while i/len(labeled_list2) < 0.8:\n",
    "    \n",
    "    labeled_list2_80.append([1] + [float(labeled_list2[i][0])] + [float(labeled_list2[i][1])])\n",
    "    \n",
    "    i += 1\n",
    "\n",
    "while i < len(labeled_list2):\n",
    "\n",
    "    labeled_list2_20.append([1] + [float(labeled_list2[i][0])] + [float(labeled_list2[i][1])])\n",
    "\n",
    "    i += 1\n",
    "    \n",
    "\"\"\"\n",
    "for line in labeled_list2_80:\n",
    "    print(line)\n",
    "print()\n",
    "for line in labeled_list2_20:\n",
    "    print(line)\n",
    "\"\"\"\n"
   ]
  },
  {
   "cell_type": "markdown",
   "metadata": {},
   "source": [
    "## Initial weight vector"
   ]
  },
  {
   "cell_type": "code",
   "execution_count": 47,
   "metadata": {},
   "outputs": [
    {
     "name": "stdout",
     "output_type": "stream",
     "text": [
      "list1 (0) average: 5.936\n",
      "list1 (1) average: 2.7700000000000005\n",
      "list2 (0) average: 5.005999999999999\n",
      "list2 (1) average: 3.4180000000000006\n"
     ]
    }
   ],
   "source": [
    "def average(list, column):\n",
    "    sum = 0\n",
    "    for line in list:\n",
    "        sum += float(line[column])\n",
    "    return sum/len(list)\n",
    "\n",
    "# list1 average (0)\n",
    "print('list1 (0) average:', average(labeled_list1, 0))\n",
    "\n",
    "# list1 average (1)\n",
    "print('list1 (1) average:', average(labeled_list1, 1))\n",
    "\n",
    "# list2 average (0)\n",
    "print('list2 (0) average:', average(labeled_list2, 0))\n",
    "\n",
    "# list2 average (1)\n",
    "print('list2 (1) average:', average(labeled_list2, 1))\n",
    "\n",
    "import numpy as np\n",
    "\n",
    "\n",
    "num_features = 3\n",
    "weight = np.random.randn(num_features)\n",
    "\n",
    "weight = [weight[0]] + [weight[1]] + [weight[2]]\n",
    "\n",
    "#weight = [0.23, -0.75, 0.12]\n"
   ]
  },
  {
   "cell_type": "markdown",
   "metadata": {},
   "source": [
    "## Perceptron Learning Algorithm - Training\n",
    "We are going to define that:\n",
    " - if the dot product $(weight*x) >= 0$, then $y$ is versicolor (+1)\n",
    " - if the dot product $(weight*x) < 0$, then $y$ is setosa (-1)"
   ]
  },
  {
   "cell_type": "code",
   "execution_count": 43,
   "metadata": {},
   "outputs": [
    {
     "name": "stdout",
     "output_type": "stream",
     "text": [
      "[0.5967242702959495, -1.4995586584829723, -2.21784062285591]\n",
      "[0.5967242702959495, -9.597175414291023, -7.097089993138913]\n",
      "[0.5967242702959495, -66.22051035860807, -22.00097897873063]\n",
      "[0.5967242702959495, -364.21280697234437, -50.602251651080444]\n",
      "[0.5967242702959495, -2367.3832453202385, -141.68630462302522]\n",
      "[0.5967242702959495, -13494.08449832536, -396.7216529444706]\n",
      "[0.5967242702959495, -85012.73233944977, -1309.1814547167528]\n",
      "[0.5967242702959495, -416562.38846330385, -3142.035491320207]\n",
      "[0.5967242702959495, -2749311.763857805, -9111.902924828599]\n",
      "[0.5967242702959495, -14296421.172060587, -24602.137897037217]\n",
      "[0.5967242702959495, -71482105.86030293, -49204.275794074434]\n",
      "[0.5967242702959495, -421744424.5757873, -147612.8273822233]\n",
      "[0.5967242702959495, -2530466547.454724, -324748.22024089127]\n",
      "[0.5967242702959495, -15435845939.473814, -941769.8386985847]\n",
      "[0.5967242702959495, -86440737261.05336, -2731132.5322258957]\n",
      "[0.5967242702959495, -579152939649.0575, -8466510.849900277]\n",
      "[0.5967242702959495, -3243256462034.7217, -25399532.549700834]\n",
      "[0.5967242702959495, -18810887479801.387, -68578737.88419226]\n",
      "[0.5967242702959495, -116627502374768.6, -150873223.34522298]\n",
      "[0.5967242702959495, -653114013298704.1, -377183058.36305743]\n",
      "[0.5967242702959495, -3853372678462354.5, -1206985786.7617838]\n",
      "[0.5967242702959495, -2.350557333862036e+16, -3379560202.9329944]\n",
      "[0.5967242702959495, -1.4808511203330826e+17, -8448900507.332486]\n",
      "[0.5967242702959495, -9.033191834031803e+17, -23656921420.53096]\n",
      "[0.5967242702959495, -5.781242773780354e+18, -68605072119.53978]\n",
      "[0.5967242702959495, -3.815620230695033e+19, -205815216358.61932]\n",
      "[0.5967242702959495, -2.5946217568726224e+20, -576282605804.134]\n",
      "[0.5967242702959495, -1.738396577104657e+21, -1728847817412.402]\n",
      "[0.5967242702959495, -1.0430379462627942e+22, -5013658670495.966]\n",
      "[0.5967242702959495, -5.945316293697927e+22, -13035512543289.512]\n",
      "[0.5967242702959495, -3.26992396153386e+23, -31285230103894.83]\n",
      "[0.5967242702959495, -1.798458178843623e+24, -75084552249347.58]\n",
      "[0.5967242702959495, -1.0431057437293013e+25, -202728291073238.47]\n",
      "[0.5967242702959495, -6.258634462375808e+25, -547366385897743.9]\n",
      "[0.5967242702959495, -3.3796626096829366e+26, -1642099157693231.5]\n",
      "[0.5967242702959495, -2.027797565809762e+27, -5583137136156987.0]\n",
      "[0.5967242702959495, -1.3586243690925406e+28, -1.730772512208666e+16]\n",
      "[0.5967242702959495, -8.559333525283006e+28, -3.980776778079931e+16]\n",
      "[0.5967242702959495, -4.793226774158483e+29, -1.1942330334239794e+17]\n",
      "[0.5967242702959495, -2.636274725787166e+30, -2.985582583559948e+17]\n",
      "[0.5967242702959495, -2.636274725787166e+30, -2.985582583559948e+17]\n"
     ]
    }
   ],
   "source": [
    "for x in labeled_list1_80:\n",
    "    dot_product = 0\n",
    "    for i in range(len(weight)):\n",
    "        dot_product += weight[i]*x[i]\n",
    "    \n",
    "    if dot_product < 0:\n",
    "        weight = [weight[0]*(1*x[0])] + [weight[1]*(1*x[1])] + [weight[2]*(1*x[2])]\n",
    "        print(weight)\n",
    "\n",
    "for x in labeled_list2_80:\n",
    "    dot_product = 0\n",
    "    for i in range(len(weight)):\n",
    "        dot_product += weight[i]*x[i]\n",
    "    \n",
    "    if dot_product >= 0:\n",
    "        weight = [weight[0]*(-1*x[0])] + [weight[1]*(-1*x[1])] + [weight[2]*(-1*x[2])]\n",
    "        print(weight)\n",
    "\n",
    "print(weight)"
   ]
  },
  {
   "cell_type": "markdown",
   "metadata": {},
   "source": [
    "## Perceptron Learning Algorithm - Validation"
   ]
  },
  {
   "cell_type": "code",
   "execution_count": 48,
   "metadata": {},
   "outputs": [
    {
     "name": "stdout",
     "output_type": "stream",
     "text": [
      "-0.9498306949205194\n",
      "-0.9688176757034882\n",
      "-0.9567833315760379\n",
      "-0.9344316865573732\n",
      "-0.9534186673403419\n",
      "-0.9595474934961301\n",
      "-0.9582770666281472\n",
      "-0.9698647943873447\n",
      "-0.9392900858451785\n",
      "-0.9570066397601642\n",
      "-0.9496768089731682\n",
      "-0.9228439587981756\n",
      "-0.9319602550581824\n",
      "-0.9496768089731682\n",
      "-0.9558056351289563\n",
      "-0.9386895835295745\n",
      "-0.9558056351289563\n",
      "-0.9365953461618614\n",
      "-0.9591702993646525\n",
      "-0.9471359552372024\n",
      "10\n"
     ]
    }
   ],
   "source": [
    "accuracy = 0\n",
    "for x in labeled_list1_20:\n",
    "    dot_product = 0\n",
    "    for i in range(len(weight)):\n",
    "        dot_product += weight[i]*x[i]\n",
    "    print(dot_product)\n",
    "    if dot_product >= 0:\n",
    "        accuracy += 1\n",
    "\n",
    "for x in labeled_list2_20:\n",
    "    dot_product = 0\n",
    "    for i in range(len(weight)):\n",
    "        dot_product += weight[i]*x[i]\n",
    "    print(dot_product)\n",
    "    if dot_product < 0:\n",
    "        accuracy += 1\n",
    "\n",
    "print(accuracy)\n",
    "\n"
   ]
  }
 ],
 "metadata": {
  "kernelspec": {
   "display_name": "Python 3",
   "language": "python",
   "name": "python3"
  },
  "language_info": {
   "codemirror_mode": {
    "name": "ipython",
    "version": 3
   },
   "file_extension": ".py",
   "mimetype": "text/x-python",
   "name": "python",
   "nbconvert_exporter": "python",
   "pygments_lexer": "ipython3",
   "version": "3.12.1"
  }
 },
 "nbformat": 4,
 "nbformat_minor": 2
}
